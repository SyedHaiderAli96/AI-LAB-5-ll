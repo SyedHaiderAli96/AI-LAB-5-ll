{
 "cells": [
  {
   "cell_type": "code",
   "execution_count": 1,
   "id": "cc8c1f34-ee24-4c36-ae90-4f6ded7445bf",
   "metadata": {},
   "outputs": [
    {
     "name": "stdout",
     "output_type": "stream",
     "text": [
      "Predicted price for a home with 5000 sq ft: 880000.0\n"
     ]
    },
    {
     "name": "stderr",
     "output_type": "stream",
     "text": [
      "C:\\Users\\ABC\\anaconda3\\Lib\\site-packages\\sklearn\\base.py:493: UserWarning: X does not have valid feature names, but LinearRegression was fitted with feature names\n",
      "  warnings.warn(\n"
     ]
    }
   ],
   "source": [
    "import pandas as pd\n",
    "from sklearn.linear_model import LinearRegression\n",
    "\n",
    "# Simulating a dataset\n",
    "data = {\n",
    "    'area': [1500, 2000, 2500, 3000, 3500],\n",
    "    'price': [320000, 400000, 480000, 560000, 640000]\n",
    "}\n",
    "df = pd.DataFrame(data)\n",
    "\n",
    "# Prepare data for training\n",
    "X = df[['area']]\n",
    "y = df['price']\n",
    "\n",
    "# Create linear regression model\n",
    "model = LinearRegression()\n",
    "model.fit(X, y)\n",
    "\n",
    "# Predicting the price for a home with 5000 sq ft area\n",
    "predicted_price_5000 = model.predict([[5000]])\n",
    "print(f\"Predicted price for a home with 5000 sq ft: {predicted_price_5000[0]}\")"
   ]
  },
  {
   "cell_type": "code",
   "execution_count": null,
   "id": "d09aad96-e998-4ee9-a1b0-05af7dee6e95",
   "metadata": {},
   "outputs": [],
   "source": []
  }
 ],
 "metadata": {
  "kernelspec": {
   "display_name": "Python 3 (ipykernel)",
   "language": "python",
   "name": "python3"
  },
  "language_info": {
   "codemirror_mode": {
    "name": "ipython",
    "version": 3
   },
   "file_extension": ".py",
   "mimetype": "text/x-python",
   "name": "python",
   "nbconvert_exporter": "python",
   "pygments_lexer": "ipython3",
   "version": "3.11.7"
  }
 },
 "nbformat": 4,
 "nbformat_minor": 5
}
