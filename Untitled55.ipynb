{
 "cells": [
  {
   "cell_type": "code",
   "execution_count": 1,
   "id": "2537d138-3155-461e-93bf-ccff142671f4",
   "metadata": {},
   "outputs": [
    {
     "name": "stdout",
     "output_type": "stream",
     "text": [
      "Predicted price for a home with 8000 sq ft: 1700000.0\n"
     ]
    },
    {
     "name": "stderr",
     "output_type": "stream",
     "text": [
      "C:\\Users\\ABC\\anaconda3\\Lib\\site-packages\\sklearn\\base.py:493: UserWarning: X does not have valid feature names, but LinearRegression was fitted with feature names\n",
      "  warnings.warn(\n"
     ]
    }
   ],
   "source": [
    "import pandas as pd\n",
    "from sklearn.linear_model import LinearRegression\n",
    "\n",
    "# Creating the dataset from Table 1 manually\n",
    "data = {\n",
    "    'area': [1000, 1500, 2000, 2500, 3000],\n",
    "    'price': [300000, 400000, 500000, 600000, 700000]\n",
    "}\n",
    "df = pd.DataFrame(data)\n",
    "\n",
    "# Preparing data for training\n",
    "X = df[['area']]\n",
    "y = df['price']\n",
    "\n",
    "# Create linear regression model\n",
    "model = LinearRegression()\n",
    "model.fit(X, y)\n",
    "\n",
    "# Predicting the price for a home with 8000 sq ft area\n",
    "predicted_price_8000 = model.predict([[8000]])\n",
    "print(f\"Predicted price for a home with 8000 sq ft: {predicted_price_8000[0]}\")"
   ]
  },
  {
   "cell_type": "code",
   "execution_count": null,
   "id": "814adaad-17da-4cd0-be2d-69f7b99525cd",
   "metadata": {},
   "outputs": [],
   "source": []
  }
 ],
 "metadata": {
  "kernelspec": {
   "display_name": "Python 3 (ipykernel)",
   "language": "python",
   "name": "python3"
  },
  "language_info": {
   "codemirror_mode": {
    "name": "ipython",
    "version": 3
   },
   "file_extension": ".py",
   "mimetype": "text/x-python",
   "name": "python",
   "nbconvert_exporter": "python",
   "pygments_lexer": "ipython3",
   "version": "3.11.7"
  }
 },
 "nbformat": 4,
 "nbformat_minor": 5
}
